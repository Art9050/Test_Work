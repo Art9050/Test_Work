{
  "nbformat": 4,
  "nbformat_minor": 0,
  "metadata": {
    "colab": {
      "provenance": [],
      "authorship_tag": "ABX9TyM7ijdOxHL2+GZgB2aZaYOf",
      "include_colab_link": true
    },
    "kernelspec": {
      "name": "python3",
      "display_name": "Python 3"
    },
    "language_info": {
      "name": "python"
    }
  },
  "cells": [
    {
      "cell_type": "markdown",
      "metadata": {
        "id": "view-in-github",
        "colab_type": "text"
      },
      "source": [
        "<a href=\"https://colab.research.google.com/github/Art9050/Test_Work/blob/main/WhoIsBlogger_(WIB).ipynb\" target=\"_parent\"><img src=\"https://colab.research.google.com/assets/colab-badge.svg\" alt=\"Open In Colab\"/></a>"
      ]
    },
    {
      "cell_type": "markdown",
      "source": [
        "# Тестовое задание на парсинг информации и ее анализ от WhoIsBlogger"
      ],
      "metadata": {
        "id": "4Q2vVUOuZbJD"
      }
    },
    {
      "cell_type": "markdown",
      "source": [
        "С сайта dzen news (https://dzen.ru/news) необходимо собрать краткий текст и названия всех статей за последний месяц (на момент выполнения) с ключевым словом \"игра\".  \n",
        "Затем для полученных статей необходимо рассчитать топ-50 наиболее частотных слов и представить их в виде word (tag) cloud.  \n",
        "Данное задание необходимо выполнить с помощью python.  \n",
        "Для представления в виде word cloud можно использовать уже существующие библиотеки. Пример word cloud можно посмотреть по ссылке - https://altoona.psu.edu/sites/altoona/files/success-word-cloud.jpg\n",
        "\n"
      ],
      "metadata": {
        "id": "FaZMyWJ1-u45"
      }
    },
    {
      "cell_type": "code",
      "source": [
        "# install chromium, its driver, and selenium # https://gist.github.com/korakot/5c8e21a5af63966d80a676af0ce15067\n",
        "!apt install chromium-chromedriver\n",
        "!pip install selenium\n",
        "# set options to be headless, ..\n",
        "from selenium import webdriver\n",
        "options = webdriver.ChromeOptions()\n",
        "options.add_argument('--headless')\n",
        "options.add_argument('--no-sandbox')\n",
        "options.add_argument('--disable-dev-shm-usage')"
      ],
      "metadata": {
        "id": "0XAPus6mONF7"
      },
      "execution_count": null,
      "outputs": []
    },
    {
      "cell_type": "code",
      "source": [
        "!pip install lxml\n",
        "from bs4 import BeautifulSoup\n",
        "from pprint import pprint"
      ],
      "metadata": {
        "colab": {
          "base_uri": "https://localhost:8080/"
        },
        "id": "_Ikebmd0YH4L",
        "outputId": "8cf6e3a0-f870-4e3e-f2d5-271aeaf26225"
      },
      "execution_count": 171,
      "outputs": [
        {
          "output_type": "stream",
          "name": "stdout",
          "text": [
            "Requirement already satisfied: lxml in /usr/local/lib/python3.10/dist-packages (4.9.3)\n"
          ]
        }
      ]
    },
    {
      "cell_type": "code",
      "source": [
        "# open it, go to a website, and get results\n",
        "url = 'https://dzen.ru/news'\n",
        "\n",
        "wd = webdriver.Chrome(options=options)\n",
        "wd.get(url)"
      ],
      "metadata": {
        "id": "2BhOcjHDPHFc"
      },
      "execution_count": 158,
      "outputs": []
    },
    {
      "cell_type": "code",
      "source": [
        "# html страницы\n",
        "page = wd.page_source\n",
        "\n",
        "# Закрыть браузер\n",
        "wd.quit()"
      ],
      "metadata": {
        "id": "uKPSdX88M-rl"
      },
      "execution_count": 159,
      "outputs": []
    },
    {
      "cell_type": "code",
      "source": [
        "soup = BeautifulSoup(page, 'lxml')"
      ],
      "metadata": {
        "id": "nI39PBmhNasb"
      },
      "execution_count": 174,
      "outputs": []
    },
    {
      "cell_type": "code",
      "source": [
        "data = soup.find_all(\"div\", class_=\"mg-card__shown-card\")"
      ],
      "metadata": {
        "id": "RZmRlOZBQIkG"
      },
      "execution_count": 184,
      "outputs": []
    },
    {
      "cell_type": "code",
      "source": [
        "for i in data:\n",
        "    short_text = i.find(\"h2\", class_=\"mg-card__title\").text\n",
        "    title = i.find(\"div\", class_=\"mg-card__annotation\").text\n",
        "    print(short_text + '\\n' + title + '\\n')"
      ],
      "metadata": {
        "id": "d3Gm0RZeTqTj"
      },
      "execution_count": null,
      "outputs": []
    },
    {
      "cell_type": "markdown",
      "source": [
        "- проверка на наличия слова \"игра\" без учета регистра\n",
        "- если слово игра есть\n",
        "    - добавить в DF"
      ],
      "metadata": {
        "id": "tTTjBnMUj9fP"
      }
    },
    {
      "cell_type": "code",
      "source": [],
      "metadata": {
        "id": "OAD1rtTkhLd_"
      },
      "execution_count": null,
      "outputs": []
    },
    {
      "cell_type": "code",
      "source": [],
      "metadata": {
        "id": "KCe6sUDYhLao"
      },
      "execution_count": null,
      "outputs": []
    },
    {
      "cell_type": "code",
      "source": [
        "# test + нормализация юникода\n",
        "\n",
        "in_print = title\n",
        "\n",
        "import unicodedata\n",
        "unicodedata.normalize('NFKD', in_print)"
      ],
      "metadata": {
        "id": "rGpDozqRVPoD"
      },
      "execution_count": null,
      "outputs": []
    },
    {
      "cell_type": "code",
      "source": [
        "# test\n",
        "print(data.prettify())"
      ],
      "metadata": {
        "id": "28IQugDaQIgW"
      },
      "execution_count": null,
      "outputs": []
    },
    {
      "cell_type": "code",
      "source": [],
      "metadata": {
        "id": "hDMb_4epQIcm"
      },
      "execution_count": null,
      "outputs": []
    },
    {
      "cell_type": "code",
      "source": [],
      "metadata": {
        "id": "WMTJxzs8Nha0"
      },
      "execution_count": 167,
      "outputs": []
    },
    {
      "cell_type": "code",
      "source": [],
      "metadata": {
        "id": "P71ujJm_cLOY"
      },
      "execution_count": null,
      "outputs": []
    },
    {
      "cell_type": "markdown",
      "source": [
        "## rss для удобного парсинга сайтов  \n",
        "```https://dzen.ru/help/website/rss-modify.html```\n",
        "\n",
        "\n",
        "```https://habr.com/ru/articles/689520/```"
      ],
      "metadata": {
        "id": "bOwSSREew006"
      }
    }
  ]
}