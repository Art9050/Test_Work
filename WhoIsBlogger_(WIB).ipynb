{
  "nbformat": 4,
  "nbformat_minor": 0,
  "metadata": {
    "colab": {
      "provenance": [],
      "authorship_tag": "ABX9TyMyvCa9a0g1RN1EsFHHVMxi",
      "include_colab_link": true
    },
    "kernelspec": {
      "name": "python3",
      "display_name": "Python 3"
    },
    "language_info": {
      "name": "python"
    }
  },
  "cells": [
    {
      "cell_type": "markdown",
      "metadata": {
        "id": "view-in-github",
        "colab_type": "text"
      },
      "source": [
        "<a href=\"https://colab.research.google.com/github/Art9050/Test_Work/blob/main/WhoIsBlogger_(WIB).ipynb\" target=\"_parent\"><img src=\"https://colab.research.google.com/assets/colab-badge.svg\" alt=\"Open In Colab\"/></a>"
      ]
    },
    {
      "cell_type": "markdown",
      "source": [
        "# Тестовое задание на парсинг информации и ее анализ от WhoIsBlogger"
      ],
      "metadata": {
        "id": "4Q2vVUOuZbJD"
      }
    },
    {
      "cell_type": "markdown",
      "source": [
        "С сайта dzen news (https://dzen.ru/news) необходимо собрать краткий текст и названия всех статей за последний месяц (на момент выполнения) с ключевым словом \"игра\".  \n",
        "Затем для полученных статей необходимо рассчитать топ-50 наиболее частотных слов и представить их в виде word (tag) cloud.  \n",
        "Данное задание необходимо выполнить с помощью python.  \n",
        "Для представления в виде word cloud можно использовать уже существующие библиотеки. Пример word cloud можно посмотреть по ссылке - https://altoona.psu.edu/sites/altoona/files/success-word-cloud.jpg\n",
        "\n"
      ],
      "metadata": {
        "id": "FaZMyWJ1-u45"
      }
    },
    {
      "cell_type": "code",
      "source": [
        "# install chromium, its driver, and selenium # https://gist.github.com/korakot/5c8e21a5af63966d80a676af0ce15067\n",
        "!apt install chromium-chromedriver\n",
        "!pip install selenium\n",
        "# set options to be headless, ..\n",
        "from selenium import webdriver\n",
        "options = webdriver.ChromeOptions()\n",
        "options.add_argument('--headless')\n",
        "options.add_argument('--no-sandbox')\n",
        "options.add_argument('--disable-dev-shm-usage')"
      ],
      "metadata": {
        "id": "0XAPus6mONF7"
      },
      "execution_count": null,
      "outputs": []
    },
    {
      "cell_type": "code",
      "source": [
        "from bs4 import BeautifulSoup\n",
        "from pprint import pprint"
      ],
      "metadata": {
        "id": "_Ikebmd0YH4L"
      },
      "execution_count": null,
      "outputs": []
    },
    {
      "cell_type": "code",
      "source": [
        "# open it, go to a website, and get results\n",
        "url = 'https://dzen.ru/news'\n",
        "\n",
        "wd = webdriver.Chrome(options=options)\n",
        "wd.get(url)\n",
        "\n",
        "# html страницы\n",
        "page = wd.page_source\n",
        "# Закрыть браузер\n",
        "wd.quit()"
      ],
      "metadata": {
        "id": "2BhOcjHDPHFc"
      },
      "execution_count": null,
      "outputs": []
    },
    {
      "cell_type": "code",
      "source": [
        "soup = BeautifulSoup(page, 'lxml')"
      ],
      "metadata": {
        "id": "nI39PBmhNasb"
      },
      "execution_count": null,
      "outputs": []
    },
    {
      "cell_type": "code",
      "source": [
        "data = soup.find_all(\"div\", class_=\"mg-card__shown-card\")"
      ],
      "metadata": {
        "id": "RZmRlOZBQIkG"
      },
      "execution_count": null,
      "outputs": []
    },
    {
      "cell_type": "code",
      "source": [
        "import re\n",
        "import unicodedata\n",
        "\n",
        "reg = r'\\bподготовленные\\b'\n",
        "# '\\bигра\\b'\n",
        "\n",
        "# текст статей удовлетворяющих условию\n",
        "text = str()\n",
        "\n",
        "for i in data:\n",
        "    title = unicodedata.normalize('NFKD', i.find(\"h2\", class_=\"mg-card__title\").text)\n",
        "    short_text = unicodedata.normalize('NFKD', i.find(\"div\", class_=\"mg-card__annotation\").text)\n",
        "\n",
        "    text = text + title + '; ' + short_text + '; ' #test\n",
        "\n",
        "    # # накопление статей удовлетворяющих условию\n",
        "    # while(bool(re.search(reg, short_text.lower())) or bool(re.search(reg, title.lower()))):\n",
        "    #     text = text + title + '; ' + short_text + '; '\n",
        "    #     break"
      ],
      "metadata": {
        "id": "rGpDozqRVPoD"
      },
      "execution_count": null,
      "outputs": []
    },
    {
      "cell_type": "code",
      "source": [
        "# Статья на нужную тематику\n",
        "# https://habr.com/ru/articles/517410/"
      ],
      "metadata": {
        "id": "DVs3ZdJc_QUG"
      },
      "execution_count": null,
      "outputs": []
    },
    {
      "cell_type": "markdown",
      "source": [
        "- проверка на наличия слова \"игра\" без учета регистра\n",
        "```\n",
        "если short_text или title есть \"игра\"\n",
        "```\n",
        "\n",
        "\n",
        "- если слово есть\n",
        "    - перибираем каждое слово отддельно\n",
        "        - добавить в DF"
      ],
      "metadata": {
        "id": "tTTjBnMUj9fP"
      }
    },
    {
      "cell_type": "markdown",
      "source": [
        "## rss для удобного парсинга сайтов  \n",
        "```https://dzen.ru/help/website/rss-modify.html```\n",
        "\n",
        "\n",
        "```https://habr.com/ru/articles/689520/```"
      ],
      "metadata": {
        "id": "bOwSSREew006"
      }
    }
  ]
}