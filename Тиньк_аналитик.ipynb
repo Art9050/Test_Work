{
  "nbformat": 4,
  "nbformat_minor": 0,
  "metadata": {
    "colab": {
      "provenance": [],
      "authorship_tag": "ABX9TyP9uILBnmDFhC1hvXuAV+kW",
      "include_colab_link": true
    },
    "kernelspec": {
      "name": "python3",
      "display_name": "Python 3"
    },
    "language_info": {
      "name": "python"
    }
  },
  "cells": [
    {
      "cell_type": "markdown",
      "metadata": {
        "id": "view-in-github",
        "colab_type": "text"
      },
      "source": [
        "<a href=\"https://colab.research.google.com/github/Art9050/Test_Work/blob/main/%D0%A2%D0%B8%D0%BD%D1%8C%D0%BA_%D0%B0%D0%BD%D0%B0%D0%BB%D0%B8%D1%82%D0%B8%D0%BA.ipynb\" target=\"_parent\"><img src=\"https://colab.research.google.com/assets/colab-badge.svg\" alt=\"Open In Colab\"/></a>"
      ]
    },
    {
      "cell_type": "markdown",
      "metadata": {
        "id": "OaFuPD1ibX07"
      },
      "source": [
        "## Загрузка и подключение к базе данных"
      ]
    },
    {
      "cell_type": "code",
      "source": [
        "!pip install SQLAlchemy==2.0\n",
        "%load_ext sql"
      ],
      "metadata": {
        "id": "5MSUpM7rWwPC"
      },
      "execution_count": null,
      "outputs": []
    },
    {
      "cell_type": "code",
      "source": [
        "%config SqlMagic.displaylimit = 10"
      ],
      "metadata": {
        "id": "N5vPTRH0Z5Ed"
      },
      "execution_count": null,
      "outputs": []
    },
    {
      "cell_type": "code",
      "source": [
        "# Необходимо написать SQL запрос, который выведет все\n",
        "# активные вклады с балансом более 10 тысяч евро или 11\n",
        "# тысяч долларов. Не подразумевается суммирование балансов\n",
        "# для одного клиента и конвертация валюты.\n",
        "%%sql\n",
        "select * from Dep\n",
        "where status  = 'active'\n",
        "and (1=0\n",
        "or (balance > 10000 and currency = 'EUR')\n",
        "or (balance > 11000 and currency = 'USD')\n",
        ")"
      ],
      "metadata": {
        "id": "cDMgrBTYieh_"
      },
      "execution_count": null,
      "outputs": []
    },
    {
      "cell_type": "code",
      "source": [
        "# С именем Алина. Возраст по убыванию\n",
        "%%sql\n",
        "SELECT * FROM contact\n",
        "WHERE client LIKE '%Алина%'\n",
        "order by age DESC"
      ],
      "metadata": {
        "id": "sDCEpYZAjWdo"
      },
      "execution_count": null,
      "outputs": []
    },
    {
      "cell_type": "code",
      "source": [
        "%%sql\n",
        "SELECT avg(age) FROM contact;\n",
        "\n",
        "--SELECT CAST(AVG(age*1.0) AS NUMERIC(6,2)) FROM contact;"
      ],
      "metadata": {
        "id": "2hvYfUEelQlJ"
      },
      "execution_count": null,
      "outputs": []
    },
    {
      "cell_type": "code",
      "source": [
        "# Сумма всех счетов для лиц возрастом за 25\n",
        "%%sql\n",
        "select distinct client_nm from(\n",
        "    SELECT\n",
        "        Dep.client,\n",
        "        balance,\n",
        "        SUM(balance) OVER(PARTITION BY contact.client) AS 'Sum',\n",
        "        contact.client as client_nm,\n",
        "        age\n",
        "    FROM contact\n",
        "    left join Dep\n",
        "    on contact.client_id = Dep.client\n",
        ")\n",
        "where age > 25"
      ],
      "metadata": {
        "id": "NlcgnbiNmehY"
      },
      "execution_count": null,
      "outputs": []
    },
    {
      "cell_type": "code",
      "source": [
        "# Необходимо написать SQL запрос, который выводит имя клиента и\n",
        "# напротив имени клиента сумму всех вкладов клиента. Сумма должна\n",
        "# быть в рублях. Если необходимо конвертировать валюту, то можно\n",
        "# воспользоваться курсом на момент решения задачи.\n",
        "%%sql\n",
        "select\n",
        "    client_nm,\n",
        "    SUM(balance) OVER(PARTITION BY client_nm) AS 'Sum_Dep_RUR'\n",
        "from(\n",
        "    SELECT\n",
        "        Dep.client,\n",
        "        CASE\n",
        "            WHEN currency = 'EUR' THEN balance/102,47\n",
        "            WHEN currency = 'USD' THEN balance/96,54\n",
        "            WHEN currency = 'GBP' THEN balance/120,78\n",
        "            ELSE balance\n",
        "        END as balance,\n",
        "        contact.client as client_nm,\n",
        "    FROM contact\n",
        "    left join Dep\n",
        "    on contact.client_id = Dep.client\n",
        ")"
      ],
      "metadata": {
        "id": "ZTQpCA5crghB"
      },
      "execution_count": null,
      "outputs": []
    },
    {
      "cell_type": "code",
      "source": [
        "# Необходимо написать SQL запрос, который выводит идентификаторы\n",
        "# клиентов, у которых нет счёта. А также идентификаторы тех\n",
        "# клиентов, которые зафиксированы в таблице Dep, но отсутствуют\n",
        "# в таблице Contact. В результате необходимо получить список идентификаторов.\n",
        "%%sql\n",
        "SELECT\n",
        "    Dep.client as cl_id\n",
        "FROM Dep\n",
        "left join Dep\n",
        "    on Dep.client = contact.client_id\n",
        "Where contact.client is NULL\n",
        "UNION aLL\n",
        "SELECT\n",
        "    Dep.client as cl_id\n",
        "FROM Dep\n",
        "right join Dep\n",
        "    on Dep.client = contact.client_id\n",
        "Where contact.client is NULL"
      ],
      "metadata": {
        "id": "7BvDB0AYmzTH"
      },
      "execution_count": null,
      "outputs": []
    }
  ]
}